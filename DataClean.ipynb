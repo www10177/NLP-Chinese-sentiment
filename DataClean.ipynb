{
 "cells": [
  {
   "cell_type": "code",
   "execution_count": 145,
   "metadata": {},
   "outputs": [],
   "source": [
    "import pandas as pd\n",
    "import numpy as np\n",
    "import csv\n",
    "import seaborn as sns"
   ]
  },
  {
   "cell_type": "code",
   "execution_count": 146,
   "metadata": {},
   "outputs": [
    {
     "name": "stdout",
     "output_type": "stream",
     "text": [
      "5778 5778\n"
     ]
    }
   ],
   "source": [
    "data = []\n",
    "labels = []\n",
    "with open(\"training_set.tsv\" , encoding='utf-8') as tsvfile:\n",
    "    tsvreader = csv.reader(tsvfile, delimiter=\"\\t\")\n",
    "    for i, line in enumerate(tsvreader):\n",
    "        if i %2 == 0:\n",
    "            data.extend(line)\n",
    "        else : \n",
    "            labels.extend(line)\n",
    "print(len(data), len(labels))\n"
   ]
  },
  {
   "cell_type": "code",
   "execution_count": 147,
   "metadata": {},
   "outputs": [
    {
     "name": "stdout",
     "output_type": "stream",
     "text": [
      " ！？｡*。＂＃＄％＆＇（）＊＋，－／：；＜＝＞＠［＼］＾＿｀｛｜｝～｟｠｢｣､、〃》「」『』【】〔〕〖〗〘〙〚〛〜〝〞〟〰〾〿–—‘'‛“”„‟…‧﹏.+,-?~!@#$%^&*()_+1234567890abcdefghijklmnopqrstuvwxyzABCDEFGHIJKLMNOPQRSTUVWXYZａｂｃｄｅｆｇｈｉｊｋｌｍｎｏｐｑｒｓｔｕｖｗｘｙｚＡＢＣＤＥＦＧＨＩＪＫＬＭＮＯＰＱＲＳＴＵＶＷＸＹＺ\n"
     ]
    }
   ],
   "source": [
    "df = pd.DataFrame(zip(data,labels),columns = ['sentence','sentiment'])\n",
    "removed_word = ''' ！？｡*。＂＃＄％＆＇（）＊＋，－／：；＜＝＞＠［＼］＾＿｀｛｜｝～｟｠｢｣､、〃》「」『』【】〔〕〖〗〘〙〚〛〜〝〞〟〰〾〿–—‘'‛“”„‟…‧﹏.+,-'''\n",
    "removed_word += '?~!@#$%^&*()_+'\n",
    "removed_word += '1234567890' +'abcdefghijklmnopqrstuvwxyzABCDEFGHIJKLMNOPQRSTUVWXYZ'\n",
    "removed_word += 'ａｂｃｄｅｆｇｈｉｊｋｌｍｎｏｐｑｒｓｔｕｖｗｘｙｚＡＢＣＤＥＦＧＨＩＪＫＬＭＮＯＰＱＲＳＴＵＶＷＸＹＺ'\n",
    "print(removed_word)\n",
    "df['sentence'] = df['sentence'].apply(lambda sen : ''.join([word for word in sen if word not in removed_word]))"
   ]
  },
  {
   "cell_type": "code",
   "execution_count": 148,
   "metadata": {},
   "outputs": [],
   "source": [
    "def remove(sen):\n",
    "    brands = ['佳能','尼康','富士','索尼','莱卡','徕卡','卡西欧','无敌兔','适马']\n",
    "    for i in brands :\n",
    "        if i in sen:\n",
    "            sen = sen.replace(i,'')\n",
    "    return sen\n",
    "df['sentence']=df['sentence'].apply(lambda x : remove(x))"
   ]
  },
  {
   "cell_type": "code",
   "execution_count": 149,
   "metadata": {},
   "outputs": [],
   "source": [
    "mask = np.random.rand(len(df)) <0.9\n",
    "train = df[mask]\n",
    "test = df[~mask]\n",
    "test.to_csv('test.tsv',sep='\\t',index=False)"
   ]
  },
  {
   "cell_type": "code",
   "execution_count": 150,
   "metadata": {},
   "outputs": [],
   "source": [
    "from random import shuffle\n",
    "neg = train[train['sentiment']=='negative']['sentence'].values\n",
    "pos = train[train['sentiment']=='positive']['sentence'].values\n",
    "def append_data(train,sen_l,sentiment):\n",
    "    shuffle(sen_l)\n",
    "    dict_list = []\n",
    "    for a,b in zip(sen_l[0::2],sen_l[1::2]):\n",
    "        dict_list.append({'sentence':a+b,'sentiment':sentiment})\n",
    "    train = train.append(pd.DataFrame(dict_list))\n",
    "    return train\n",
    "for i in range(8):\n",
    "    train = append_data(train,neg,'negative')\n",
    "for i in range(6):\n",
    "    train = append_data(train,neg,'positive')"
   ]
  },
  {
   "cell_type": "code",
   "execution_count": 151,
   "metadata": {},
   "outputs": [
    {
     "name": "stdout",
     "output_type": "stream",
     "text": [
      "                          sentence sentiment\n",
      "0                          用的是高速连拍   neutral\n",
      "1         可是定焦也太小气了如果能忍受它缓慢的存储速度的话  positive\n",
      "2                工作的时候朋友借了台给我使用了三天   neutral\n",
      "3                对焦真的没什么优势比偏红偏假的色彩  negative\n",
      "4                   晚上拍照比较吃力操作够复杂的  negative\n",
      "5                  出来的片子更糟感觉手柄还是略小  negative\n",
      "6                          三星的一些片子   neutral\n",
      "7                        本不打算看半幅单反   neutral\n",
      "8                       手柄也太小没有闪光灯  negative\n",
      "9                         价格日本的在左右   neutral\n",
      "10                        感谢格力达俱乐部   neutral\n",
      "11              洞妖的明显要慢于的除了没有触摸屏以外  positive\n",
      "12          但在大光圈长焦和闪光灯上还有不足对焦速度一般  negative\n",
      "13                        速度奇慢的非常差  negative\n",
      "14             手感操控性能画质已然全面落后但体积不小  negative\n",
      "15        同样用测试对焦用过/系统的人绝对会受不了的触摸屏  negative\n",
      "16              掉皮现象以及上手旧的问题已经明显改观   neutral\n",
      "17               尤其是曝光锁定键防抖没有想像中管用  negative\n",
      "18                         试机的几点感受   neutral\n",
      "19                 能够用上像这样的对焦系统就好了  positive\n",
      "20                      但有一个最重要的问题   neutral\n",
      "21                特别是电池舱盖因此背景的虚化不足  positive\n",
      "22                      这头的对焦环色彩的话  negative\n",
      "23                  弱光环境下以及夜景闪光灯模式   neutral\n",
      "24                   看上去没有原来的两个盖简洁   neutral\n",
      "25             结果对焦和色彩让人失望白平衡只能菜单调  negative\n",
      "26             对焦的确非常非常慢但在基本的锐利度表现  negative\n",
      "27                        虽然看上去专业了   neutral\n",
      "28               档的超级功能木有了就一姐夫机的大小  negative\n",
      "29                              缺点   neutral\n",
      "...                            ...       ...\n",
      "7918                 快门延时稍长画面也惨不忍睹  positive\n",
      "7919                       看来还是要上环   neutral\n",
      "7920                         之前也摸过   neutral\n",
      "7921       最不满意的也就对焦系统了刚上手觉得操作特别困难  positive\n",
      "7922        我觉得的机身手感很不理想发现对焦速度有所降低  negative\n",
      "7923                        终于选择入啦   neutral\n",
      "7924       快门声音真心不好听可是它的机械性能又实在是不好  positive\n",
      "7925                       还是换了做备机   neutral\n",
      "7926                          卡槽方便   neutral\n",
      "7927                      确实看起来没帅气   neutral\n",
      "7928  边缘对焦还是比较容易拉风箱就是对焦前先来回抽一下让人蛋疼  negative\n",
      "7929                          录像按钮  negative\n",
      "7930                       有些当年的感觉   neutral\n",
      "7931                     机身缝隙稍大炒冷饭  positive\n",
      "7932                         我需要对焦   neutral\n",
      "7933                          曝光正常  positive\n",
      "7934                     不能总玩万像素的啊   neutral\n",
      "7935                       翻转屏非常好用  positive\n",
      "7936                     也觉得操作非常方便  positive\n",
      "7937                            相反   neutral\n",
      "7938                          坊间传闻   neutral\n",
      "7939                       的工作电流小于   neutral\n",
      "7940                       但应该是够用的   neutral\n",
      "7941                    虽然没有这类机子专业   neutral\n",
      "7942                      使用过和后的感受   neutral\n",
      "7943                   感觉在如果只在电脑上看   neutral\n",
      "7944         现在多出来的锁定键做的太就说下设计上的不足  negative\n",
      "7945              这么密的小像素快门打到尽然有重影  negative\n",
      "7946      其实松下除了画质外在肩屏的信息显示量上也不够丰富  negative\n",
      "7947            顺便吐槽这几个新出的镜头肤色偏金黄色  negative\n",
      "\n",
      "[7948 rows x 2 columns]\n"
     ]
    }
   ],
   "source": [
    "train = train.sample(train.shape[0]).reset_index(drop=True)\n",
    "print(train)"
   ]
  },
  {
   "cell_type": "code",
   "execution_count": 152,
   "metadata": {},
   "outputs": [],
   "source": [
    "train.to_csv('train.tsv',sep='\\t',index=False)"
   ]
  },
  {
   "cell_type": "code",
   "execution_count": 153,
   "metadata": {},
   "outputs": [
    {
     "name": "stdout",
     "output_type": "stream",
     "text": [
      "(7948, 2)\n"
     ]
    },
    {
     "data": {
      "image/png": "[encoded data removed]",
      "text/plain": [
       "<Figure size 432x288 with 1 Axes>"
      ]
     },
     "metadata": {},
     "output_type": "display_data"
    }
   ],
   "source": [
    "print(train.shape)\n",
    "ax = sns.countplot(x='sentiment',  data=train)"
   ]
  },
  {
   "cell_type": "code",
   "execution_count": null,
   "metadata": {},
   "outputs": [],
   "source": []
  },
  {
   "cell_type": "code",
   "execution_count": null,
   "metadata": {},
   "outputs": [],
   "source": []
  }
 ],
 "metadata": {
  "kernelspec": {
   "display_name": "Python 3",
   "language": "python",
   "name": "python3"
  },
  "language_info": {
   "codemirror_mode": {
    "name": "ipython",
    "version": 3
   },
   "file_extension": ".py",
   "mimetype": "text/x-python",
   "name": "python",
   "nbconvert_exporter": "python",
   "pygments_lexer": "ipython3",
   "version": "3.7.3"
  }
 },
 "nbformat": 4,
 "nbformat_minor": 4
}
